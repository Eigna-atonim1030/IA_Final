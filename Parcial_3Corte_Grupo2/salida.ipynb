{
 "cells": [
  {
   "cell_type": "code",
   "execution_count": 1,
   "id": "6112a998",
   "metadata": {},
   "outputs": [],
   "source": [
    "import pandas as pd\n",
    "import numpy as np\n",
    "from tensorflow import keras\n",
    "import matplotlib.pyplot as plt\n",
    "\n",
    "# Red neuronal secuencial\n",
    "from tensorflow.keras.models import Sequential\n",
    "# Capa completamente conectada\n",
    "from tensorflow.keras import layers\n",
    "from tensorflow.keras.layers import Dense, Conv2D\n",
    "# Optimizador\n",
    "from tensorflow.keras.optimizers import Adam"
   ]
  },
  {
   "cell_type": "code",
   "execution_count": 2,
   "id": "bdc9a3e2",
   "metadata": {},
   "outputs": [
    {
     "name": "stdout",
     "output_type": "stream",
     "text": [
      "<class 'pandas.core.frame.DataFrame'>\n",
      "RangeIndex: 1454 entries, 0 to 1453\n",
      "Data columns (total 1 columns):\n",
      " #   Column  Non-Null Count  Dtype \n",
      "---  ------  --------------  ----- \n",
      " 0   ESTADO  1454 non-null   object\n",
      "dtypes: object(1)\n",
      "memory usage: 11.5+ KB\n"
     ]
    }
   ],
   "source": [
    "#Leer el dataset \n",
    "df = pd.read_csv('Salida - df.csv')\n",
    "df.info()"
   ]
  },
  {
   "cell_type": "code",
   "execution_count": 3,
   "id": "47f03da8",
   "metadata": {},
   "outputs": [
    {
     "data": {
      "text/html": [
       "<div>\n",
       "<style scoped>\n",
       "    .dataframe tbody tr th:only-of-type {\n",
       "        vertical-align: middle;\n",
       "    }\n",
       "\n",
       "    .dataframe tbody tr th {\n",
       "        vertical-align: top;\n",
       "    }\n",
       "\n",
       "    .dataframe thead th {\n",
       "        text-align: right;\n",
       "    }\n",
       "</style>\n",
       "<table border=\"1\" class=\"dataframe\">\n",
       "  <thead>\n",
       "    <tr style=\"text-align: right;\">\n",
       "      <th></th>\n",
       "      <th>ESTADO</th>\n",
       "    </tr>\n",
       "  </thead>\n",
       "  <tbody>\n",
       "    <tr>\n",
       "      <th>0</th>\n",
       "      <td>ACTIVO</td>\n",
       "    </tr>\n",
       "    <tr>\n",
       "      <th>1</th>\n",
       "      <td>INACTIVO</td>\n",
       "    </tr>\n",
       "    <tr>\n",
       "      <th>2</th>\n",
       "      <td>ACTIVO</td>\n",
       "    </tr>\n",
       "    <tr>\n",
       "      <th>3</th>\n",
       "      <td>INACTIVO</td>\n",
       "    </tr>\n",
       "    <tr>\n",
       "      <th>4</th>\n",
       "      <td>ACTIVO</td>\n",
       "    </tr>\n",
       "  </tbody>\n",
       "</table>\n",
       "</div>"
      ],
      "text/plain": [
       "     ESTADO\n",
       "0    ACTIVO\n",
       "1  INACTIVO\n",
       "2    ACTIVO\n",
       "3  INACTIVO\n",
       "4    ACTIVO"
      ]
     },
     "execution_count": 3,
     "metadata": {},
     "output_type": "execute_result"
    }
   ],
   "source": [
    "df.head()"
   ]
  },
  {
   "cell_type": "code",
   "execution_count": 4,
   "id": "991ebdbd",
   "metadata": {},
   "outputs": [
    {
     "name": "stdout",
     "output_type": "stream",
     "text": [
      "¿Columnas con datos faltantes?\n",
      "ESTADO    False\n",
      "dtype: bool\n"
     ]
    }
   ],
   "source": [
    "missing = df.isnull().any()\n",
    "\n",
    "print(\"¿Columnas con datos faltantes?\")\n",
    "print(missing)"
   ]
  },
  {
   "cell_type": "code",
   "execution_count": 5,
   "id": "5d117ca4",
   "metadata": {},
   "outputs": [
    {
     "name": "stdout",
     "output_type": "stream",
     "text": [
      "<class 'pandas.core.frame.DataFrame'>\n",
      "RangeIndex: 1454 entries, 0 to 1453\n",
      "Data columns (total 1 columns):\n",
      " #   Column  Non-Null Count  Dtype   \n",
      "---  ------  --------------  -----   \n",
      " 0   ESTADO  1454 non-null   category\n",
      "dtypes: category(1)\n",
      "memory usage: 1.8 KB\n"
     ]
    }
   ],
   "source": [
    "df[\"ESTADO\"] = df[\"ESTADO\"].astype(\"category\")\n",
    "df.info()"
   ]
  },
  {
   "cell_type": "code",
   "execution_count": 6,
   "id": "523005d4",
   "metadata": {},
   "outputs": [],
   "source": [
    "# 5. Definir columnas categóricas para codificar\n",
    "columnas_categoricas = [\"ESTADO\"]"
   ]
  },
  {
   "cell_type": "code",
   "execution_count": 7,
   "id": "292e3eab",
   "metadata": {},
   "outputs": [],
   "source": [
    "from sklearn.preprocessing import OneHotEncoder"
   ]
  },
  {
   "cell_type": "code",
   "execution_count": 8,
   "id": "1f151c26",
   "metadata": {},
   "outputs": [],
   "source": [
    "# 6. Inicializar codificador\n",
    "codificador = OneHotEncoder (sparse_output=False)  # Usa 'sparse=False' si usas versión antigua de sklearn"
   ]
  },
  {
   "cell_type": "code",
   "execution_count": 9,
   "id": "290e6f21",
   "metadata": {},
   "outputs": [],
   "source": [
    "# 7. Aplicar codificación\n",
    "codificacion_array = codificador.fit_transform(df[columnas_categoricas])"
   ]
  },
  {
   "cell_type": "code",
   "execution_count": 10,
   "id": "7c8e5f49",
   "metadata": {},
   "outputs": [],
   "source": [
    "# 8. Crear DataFrame con nombres de columnas codificadas\n",
    "codificador_cols = pd.DataFrame(codificacion_array, columns=codificador.get_feature_names_out(columnas_categoricas), index=df.index)"
   ]
  },
  {
   "cell_type": "code",
   "execution_count": 11,
   "id": "2c2577d5",
   "metadata": {},
   "outputs": [],
   "source": [
    "# 9. Reemplazar columnas originales por las codificadas\n",
    "df = df.drop(columns=columnas_categoricas)\n",
    "df = pd.concat([df, codificador_cols], axis=1)"
   ]
  },
  {
   "cell_type": "code",
   "execution_count": 12,
   "id": "8af6ec70",
   "metadata": {},
   "outputs": [],
   "source": [
    "# 10. Guardar el nuevo dataset\n",
    "df.to_csv(\"df_salida_final.csv\", index=False)"
   ]
  },
  {
   "cell_type": "code",
   "execution_count": 13,
   "id": "21e3ae3f",
   "metadata": {},
   "outputs": [
    {
     "name": "stdout",
     "output_type": "stream",
     "text": [
      "\n",
      "DataFrame final con variables numéricas:\n",
      "   ESTADO_ACTIVO  ESTADO_Balanceado Primer Semestre  ESTADO_INACTIVO  \\\n",
      "0            1.0                                0.0              0.0   \n",
      "1            0.0                                0.0              1.0   \n",
      "2            1.0                                0.0              0.0   \n",
      "3            0.0                                0.0              1.0   \n",
      "4            1.0                                0.0              0.0   \n",
      "\n",
      "   ESTADO_INACTIVO CANCELA SEMESTRE  ESTADO_INACTIVO DOS PROGRAMAS  \n",
      "0                               0.0                            0.0  \n",
      "1                               0.0                            0.0  \n",
      "2                               0.0                            0.0  \n",
      "3                               0.0                            0.0  \n",
      "4                               0.0                            0.0  \n"
     ]
    }
   ],
   "source": [
    "# 11. Mostrar las primeras filas\n",
    "print(\"\\nDataFrame final con variables numéricas:\")\n",
    "print(df.head())"
   ]
  },
  {
   "cell_type": "code",
   "execution_count": null,
   "id": "981b2d97",
   "metadata": {},
   "outputs": [],
   "source": []
  }
 ],
 "metadata": {
  "kernelspec": {
   "display_name": "base",
   "language": "python",
   "name": "python3"
  },
  "language_info": {
   "codemirror_mode": {
    "name": "ipython",
    "version": 3
   },
   "file_extension": ".py",
   "mimetype": "text/x-python",
   "name": "python",
   "nbconvert_exporter": "python",
   "pygments_lexer": "ipython3",
   "version": "3.12.7"
  }
 },
 "nbformat": 4,
 "nbformat_minor": 5
}
