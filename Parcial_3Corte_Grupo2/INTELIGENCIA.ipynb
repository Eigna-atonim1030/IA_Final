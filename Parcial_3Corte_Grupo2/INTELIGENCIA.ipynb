{
 "cells": [
  {
   "cell_type": "code",
   "execution_count": 1,
   "id": "efc5a338",
   "metadata": {},
   "outputs": [],
   "source": [
    "import pandas as pd\n",
    "import numpy as np\n",
    "from tensorflow import keras\n",
    "import matplotlib.pyplot as plt\n",
    "\n",
    "# Red neuronal secuencial\n",
    "from tensorflow.keras.models import Sequential\n",
    "# Capa completamente conectada\n",
    "from tensorflow.keras import layers\n",
    "from tensorflow.keras.layers import Dense, Conv2D\n",
    "# Optimizador\n",
    "from tensorflow.keras.optimizers import Adam"
   ]
  },
  {
   "cell_type": "code",
   "execution_count": 2,
   "id": "218f7d5c",
   "metadata": {},
   "outputs": [
    {
     "name": "stdout",
     "output_type": "stream",
     "text": [
      "<class 'pandas.core.frame.DataFrame'>\n",
      "RangeIndex: 1454 entries, 0 to 1453\n",
      "Data columns (total 9 columns):\n",
      " #   Column      Non-Null Count  Dtype  \n",
      "---  ------      --------------  -----  \n",
      " 0   CODIGO      1454 non-null   int64  \n",
      " 1   GENERO      1454 non-null   object \n",
      " 2   ESTUDIANTE  1454 non-null   object \n",
      " 3   FACULTAD    1454 non-null   object \n",
      " 4   PROGRAMA    1454 non-null   object \n",
      " 5   SEDE        1454 non-null   object \n",
      " 6   JORNADA     1454 non-null   object \n",
      " 7   SEMESTRE    1454 non-null   int64  \n",
      " 8   PERIODO     1454 non-null   float64\n",
      "dtypes: float64(1), int64(2), object(6)\n",
      "memory usage: 102.4+ KB\n"
     ]
    }
   ],
   "source": [
    "#Leer el dataset \n",
    "df = pd.read_csv('df2_completado - df.csv')\n",
    "df.info()"
   ]
  },
  {
   "cell_type": "code",
   "execution_count": 3,
   "id": "9073a2d6",
   "metadata": {},
   "outputs": [
    {
     "data": {
      "text/html": [
       "<div>\n",
       "<style scoped>\n",
       "    .dataframe tbody tr th:only-of-type {\n",
       "        vertical-align: middle;\n",
       "    }\n",
       "\n",
       "    .dataframe tbody tr th {\n",
       "        vertical-align: top;\n",
       "    }\n",
       "\n",
       "    .dataframe thead th {\n",
       "        text-align: right;\n",
       "    }\n",
       "</style>\n",
       "<table border=\"1\" class=\"dataframe\">\n",
       "  <thead>\n",
       "    <tr style=\"text-align: right;\">\n",
       "      <th></th>\n",
       "      <th>CODIGO</th>\n",
       "      <th>GENERO</th>\n",
       "      <th>ESTUDIANTE</th>\n",
       "      <th>FACULTAD</th>\n",
       "      <th>PROGRAMA</th>\n",
       "      <th>SEDE</th>\n",
       "      <th>JORNADA</th>\n",
       "      <th>SEMESTRE</th>\n",
       "      <th>PERIODO</th>\n",
       "    </tr>\n",
       "  </thead>\n",
       "  <tbody>\n",
       "    <tr>\n",
       "      <th>0</th>\n",
       "      <td>100423020941</td>\n",
       "      <td>M</td>\n",
       "      <td>Regular</td>\n",
       "      <td>Facultad de Ciencias Agrarias</td>\n",
       "      <td>Ingenieria Agroindustrial Diurno - Sede Santan...</td>\n",
       "      <td>SANTANDER DE QUILICHAO</td>\n",
       "      <td>DIURNO</td>\n",
       "      <td>2</td>\n",
       "      <td>2023.2</td>\n",
       "    </tr>\n",
       "    <tr>\n",
       "      <th>1</th>\n",
       "      <td>100423020942</td>\n",
       "      <td>M</td>\n",
       "      <td>Regular</td>\n",
       "      <td>Facultad de Ciencias Agrarias</td>\n",
       "      <td>Ingenieria Agroindustrial Diurno - Sede Santan...</td>\n",
       "      <td>SANTANDER DE QUILICHAO</td>\n",
       "      <td>DIURNO</td>\n",
       "      <td>1</td>\n",
       "      <td>2023.2</td>\n",
       "    </tr>\n",
       "    <tr>\n",
       "      <th>2</th>\n",
       "      <td>100423020943</td>\n",
       "      <td>F</td>\n",
       "      <td>Regular</td>\n",
       "      <td>Facultad de Ciencias Agrarias</td>\n",
       "      <td>Ingenieria Agroindustrial Diurno - Sede Santan...</td>\n",
       "      <td>SANTANDER DE QUILICHAO</td>\n",
       "      <td>DIURNO</td>\n",
       "      <td>1</td>\n",
       "      <td>2023.2</td>\n",
       "    </tr>\n",
       "    <tr>\n",
       "      <th>3</th>\n",
       "      <td>100423020944</td>\n",
       "      <td>M</td>\n",
       "      <td>Regular</td>\n",
       "      <td>Facultad de Ciencias Agrarias</td>\n",
       "      <td>Ingenieria Agroindustrial Diurno - Sede Santan...</td>\n",
       "      <td>SANTANDER DE QUILICHAO</td>\n",
       "      <td>DIURNO</td>\n",
       "      <td>1</td>\n",
       "      <td>2023.2</td>\n",
       "    </tr>\n",
       "    <tr>\n",
       "      <th>4</th>\n",
       "      <td>100423020945</td>\n",
       "      <td>M</td>\n",
       "      <td>Regular</td>\n",
       "      <td>Facultad de Ciencias Agrarias</td>\n",
       "      <td>Ingenieria Agroindustrial Diurno - Sede Santan...</td>\n",
       "      <td>SANTANDER DE QUILICHAO</td>\n",
       "      <td>DIURNO</td>\n",
       "      <td>2</td>\n",
       "      <td>2023.2</td>\n",
       "    </tr>\n",
       "  </tbody>\n",
       "</table>\n",
       "</div>"
      ],
      "text/plain": [
       "         CODIGO GENERO ESTUDIANTE                       FACULTAD  \\\n",
       "0  100423020941      M    Regular  Facultad de Ciencias Agrarias   \n",
       "1  100423020942      M    Regular  Facultad de Ciencias Agrarias   \n",
       "2  100423020943      F    Regular  Facultad de Ciencias Agrarias   \n",
       "3  100423020944      M    Regular  Facultad de Ciencias Agrarias   \n",
       "4  100423020945      M    Regular  Facultad de Ciencias Agrarias   \n",
       "\n",
       "                                            PROGRAMA                    SEDE  \\\n",
       "0  Ingenieria Agroindustrial Diurno - Sede Santan...  SANTANDER DE QUILICHAO   \n",
       "1  Ingenieria Agroindustrial Diurno - Sede Santan...  SANTANDER DE QUILICHAO   \n",
       "2  Ingenieria Agroindustrial Diurno - Sede Santan...  SANTANDER DE QUILICHAO   \n",
       "3  Ingenieria Agroindustrial Diurno - Sede Santan...  SANTANDER DE QUILICHAO   \n",
       "4  Ingenieria Agroindustrial Diurno - Sede Santan...  SANTANDER DE QUILICHAO   \n",
       "\n",
       "  JORNADA  SEMESTRE  PERIODO  \n",
       "0  DIURNO         2   2023.2  \n",
       "1  DIURNO         1   2023.2  \n",
       "2  DIURNO         1   2023.2  \n",
       "3  DIURNO         1   2023.2  \n",
       "4  DIURNO         2   2023.2  "
      ]
     },
     "execution_count": 3,
     "metadata": {},
     "output_type": "execute_result"
    }
   ],
   "source": [
    "df.head()"
   ]
  },
  {
   "cell_type": "markdown",
   "id": "4a502694",
   "metadata": {},
   "source": [
    "Verificamos si la base de datos tiene archivos o valores faltantes"
   ]
  },
  {
   "cell_type": "code",
   "execution_count": 4,
   "id": "35a119bd",
   "metadata": {},
   "outputs": [
    {
     "name": "stdout",
     "output_type": "stream",
     "text": [
      "¿Columnas con datos faltantes?\n",
      "CODIGO        False\n",
      "GENERO        False\n",
      "ESTUDIANTE    False\n",
      "FACULTAD      False\n",
      "PROGRAMA      False\n",
      "SEDE          False\n",
      "JORNADA       False\n",
      "SEMESTRE      False\n",
      "PERIODO       False\n",
      "dtype: bool\n"
     ]
    }
   ],
   "source": [
    "missing = df.isnull().any()\n",
    "\n",
    "print(\"¿Columnas con datos faltantes?\")\n",
    "print(missing)"
   ]
  },
  {
   "cell_type": "code",
   "execution_count": 5,
   "id": "e8093555",
   "metadata": {},
   "outputs": [
    {
     "name": "stdout",
     "output_type": "stream",
     "text": [
      "<class 'pandas.core.frame.DataFrame'>\n",
      "RangeIndex: 1454 entries, 0 to 1453\n",
      "Data columns (total 9 columns):\n",
      " #   Column      Non-Null Count  Dtype   \n",
      "---  ------      --------------  -----   \n",
      " 0   CODIGO      1454 non-null   int64   \n",
      " 1   GENERO      1454 non-null   category\n",
      " 2   ESTUDIANTE  1454 non-null   category\n",
      " 3   FACULTAD    1454 non-null   category\n",
      " 4   PROGRAMA    1454 non-null   category\n",
      " 5   SEDE        1454 non-null   category\n",
      " 6   JORNADA     1454 non-null   category\n",
      " 7   SEMESTRE    1454 non-null   int64   \n",
      " 8   PERIODO     1454 non-null   float64 \n",
      "dtypes: category(6), float64(1), int64(2)\n",
      "memory usage: 44.9 KB\n"
     ]
    }
   ],
   "source": [
    "df[\"GENERO\"] = df[\"GENERO\"].astype(\"category\")\n",
    "df[\"ESTUDIANTE\"] = df[\"ESTUDIANTE\"].astype(\"category\")\n",
    "df[\"FACULTAD\"] = df[\"FACULTAD\"].astype(\"category\")\n",
    "df[\"PROGRAMA\"] = df[\"PROGRAMA\"].astype(\"category\")\n",
    "df[\"SEDE\"] = df[\"SEDE\"].astype(\"category\")\n",
    "df[\"JORNADA\"] = df[\"JORNADA\"].astype(\"category\")\n",
    "df.info()"
   ]
  },
  {
   "cell_type": "markdown",
   "id": "f2fa4d93",
   "metadata": {},
   "source": [
    "CODIFICAMOS LOS DATOS UTILIZANDO LA CLASE OneHontEnconder de la libreria sklearn"
   ]
  },
  {
   "cell_type": "code",
   "execution_count": 7,
   "id": "a12a6c6b",
   "metadata": {},
   "outputs": [],
   "source": [
    "# 5. Definir columnas categóricas para codificar\n",
    "columnas_categoricas = [\"GENERO\", \"ESTUDIANTE\", \"FACULTAD\", \"PROGRAMA\", \"SEDE\", \"JORNADA\"]"
   ]
  },
  {
   "cell_type": "code",
   "execution_count": 8,
   "id": "3b4dac59",
   "metadata": {},
   "outputs": [],
   "source": [
    "from sklearn.preprocessing import OneHotEncoder"
   ]
  },
  {
   "cell_type": "code",
   "execution_count": 9,
   "id": "ed0a1671",
   "metadata": {},
   "outputs": [],
   "source": [
    "# 6. Inicializar codificador\n",
    "codificador = OneHotEncoder (sparse_output=False)  # Usa 'sparse=False' si usas versión antigua de sklearn"
   ]
  },
  {
   "cell_type": "code",
   "execution_count": 10,
   "id": "965435e0",
   "metadata": {},
   "outputs": [],
   "source": [
    "# 7. Aplicar codificación\n",
    "codificacion_array = codificador.fit_transform(df[columnas_categoricas])"
   ]
  },
  {
   "cell_type": "code",
   "execution_count": 11,
   "id": "a4797c28",
   "metadata": {},
   "outputs": [],
   "source": [
    "# 8. Crear DataFrame con nombres de columnas codificadas\n",
    "codificador_cols = pd.DataFrame(codificacion_array, columns=codificador.get_feature_names_out(columnas_categoricas), index=df.index)"
   ]
  },
  {
   "cell_type": "code",
   "execution_count": 12,
   "id": "a7699ffa",
   "metadata": {},
   "outputs": [],
   "source": [
    "# 9. Reemplazar columnas originales por las codificadas\n",
    "df = df.drop(columns=columnas_categoricas)\n",
    "df = pd.concat([df, codificador_cols], axis=1)"
   ]
  },
  {
   "cell_type": "code",
   "execution_count": 13,
   "id": "d9b2e159",
   "metadata": {},
   "outputs": [],
   "source": [
    "# 10. Guardar el nuevo dataset\n",
    "df.to_csv(\"df_codificado_final.csv\", index=False)"
   ]
  },
  {
   "cell_type": "code",
   "execution_count": 14,
   "id": "787c1a0b",
   "metadata": {},
   "outputs": [
    {
     "name": "stdout",
     "output_type": "stream",
     "text": [
      "\n",
      "DataFrame final con variables numéricas:\n",
      "         CODIGO  SEMESTRE  PERIODO  GENERO_F  GENERO_M  ESTUDIANTE_Primiparo  \\\n",
      "0  100423020941         2   2023.2       0.0       1.0                   0.0   \n",
      "1  100423020942         1   2023.2       0.0       1.0                   0.0   \n",
      "2  100423020943         1   2023.2       1.0       0.0                   0.0   \n",
      "3  100423020944         1   2023.2       0.0       1.0                   0.0   \n",
      "4  100423020945         2   2023.2       0.0       1.0                   0.0   \n",
      "\n",
      "   ESTUDIANTE_Regular  FACULTAD_Facultad de Artes  \\\n",
      "0                 1.0                         0.0   \n",
      "1                 1.0                         0.0   \n",
      "2                 1.0                         0.0   \n",
      "3                 1.0                         0.0   \n",
      "4                 1.0                         0.0   \n",
      "\n",
      "   FACULTAD_Facultad de Ciencias Agrarias  \\\n",
      "0                                     1.0   \n",
      "1                                     1.0   \n",
      "2                                     1.0   \n",
      "3                                     1.0   \n",
      "4                                     1.0   \n",
      "\n",
      "   FACULTAD_Facultad de Ciencias Contables Económicas y Administrativas  ...  \\\n",
      "0                                                0.0                     ...   \n",
      "1                                                0.0                     ...   \n",
      "2                                                0.0                     ...   \n",
      "3                                                0.0                     ...   \n",
      "4                                                0.0                     ...   \n",
      "\n",
      "   PROGRAMA_Licenciatura en Educación Básica Primaria  \\\n",
      "0                                                0.0    \n",
      "1                                                0.0    \n",
      "2                                                0.0    \n",
      "3                                                0.0    \n",
      "4                                                0.0    \n",
      "\n",
      "   PROGRAMA_Licenciatura en Lenguas Modernas con Énfasis en Ingles y Francés – Santander de Quilichao  \\\n",
      "0                                                0.0                                                    \n",
      "1                                                0.0                                                    \n",
      "2                                                0.0                                                    \n",
      "3                                                0.0                                                    \n",
      "4                                                0.0                                                    \n",
      "\n",
      "   PROGRAMA_Licenciatura en Lenguas Modernas con Énfasis en Inglés y Francés  \\\n",
      "0                                                0.0                           \n",
      "1                                                0.0                           \n",
      "2                                                0.0                           \n",
      "3                                                0.0                           \n",
      "4                                                0.0                           \n",
      "\n",
      "   PROGRAMA_Licenciatura en Matemáticas  PROGRAMA_Matemáticas  \\\n",
      "0                                   0.0                   0.0   \n",
      "1                                   0.0                   0.0   \n",
      "2                                   0.0                   0.0   \n",
      "3                                   0.0                   0.0   \n",
      "4                                   0.0                   0.0   \n",
      "\n",
      "   PROGRAMA_Medicina  SEDE_POPAYAN  SEDE_SANTANDER DE QUILICHAO  \\\n",
      "0                0.0           0.0                          1.0   \n",
      "1                0.0           0.0                          1.0   \n",
      "2                0.0           0.0                          1.0   \n",
      "3                0.0           0.0                          1.0   \n",
      "4                0.0           0.0                          1.0   \n",
      "\n",
      "   JORNADA_DIURNO  JORNADA_NOCTURNO  \n",
      "0             1.0               0.0  \n",
      "1             1.0               0.0  \n",
      "2             1.0               0.0  \n",
      "3             1.0               0.0  \n",
      "4             1.0               0.0  \n",
      "\n",
      "[5 rows x 55 columns]\n"
     ]
    }
   ],
   "source": [
    "# 11. Mostrar las primeras filas\n",
    "print(\"\\nDataFrame final con variables numéricas:\")\n",
    "print(df.head())"
   ]
  },
  {
   "cell_type": "code",
   "execution_count": 17,
   "id": "9915f399",
   "metadata": {},
   "outputs": [],
   "source": [
    "# Leer los archivos CSV\n",
    "X_encoded = pd.read_csv(\"df_codificado_final.csv\")  # Reemplaza con el nombre real del archivo que contiene X\n",
    "y = pd.read_csv(\"df_salida_final.csv\")          # Reemplaza con el nombre real del archivo que contiene y\n",
    "\n",
    "# Dividir los datos en 70% entrenamiento y 30% prueba\n",
    "train_size = int(0.7 * len(X_encoded))\n",
    "\n",
    "X_train = X_encoded.iloc[:train_size]\n",
    "X_test = X_encoded.iloc[train_size:]\n",
    "\n",
    "y_train = y.iloc[:train_size]\n",
    "y_test = y.iloc[train_size:]\n",
    "\n",
    "# Guardar los archivos CSV\n",
    "X_train.to_csv(\"X_train.csv\", index=False)\n",
    "X_test.to_csv(\"X_test.csv\", index=False)\n",
    "y_train.to_csv(\"y_train.csv\", index=False)\n",
    "y_test.to_csv(\"y_test.csv\", index=False)"
   ]
  },
  {
   "cell_type": "code",
   "execution_count": null,
   "id": "2f5ba09b",
   "metadata": {},
   "outputs": [],
   "source": []
  }
 ],
 "metadata": {
  "kernelspec": {
   "display_name": "base",
   "language": "python",
   "name": "python3"
  },
  "language_info": {
   "codemirror_mode": {
    "name": "ipython",
    "version": 3
   },
   "file_extension": ".py",
   "mimetype": "text/x-python",
   "name": "python",
   "nbconvert_exporter": "python",
   "pygments_lexer": "ipython3",
   "version": "3.12.7"
  }
 },
 "nbformat": 4,
 "nbformat_minor": 5
}
